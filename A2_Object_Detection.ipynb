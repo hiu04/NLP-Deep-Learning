{
  "nbformat": 4,
  "nbformat_minor": 0,
  "metadata": {
    "colab": {
      "provenance": [],
      "gpuType": "T4",
      "include_colab_link": true
    },
    "kernelspec": {
      "name": "python3",
      "display_name": "Python 3"
    },
    "language_info": {
      "name": "python"
    },
    "accelerator": "GPU",
    "widgets": {
      "application/vnd.jupyter.widget-state+json": {
        "1ec73d70b88647ddaa920960cfdaab77": {
          "model_module": "@jupyter-widgets/controls",
          "model_name": "HBoxModel",
          "model_module_version": "1.5.0",
          "state": {
            "_dom_classes": [],
            "_model_module": "@jupyter-widgets/controls",
            "_model_module_version": "1.5.0",
            "_model_name": "HBoxModel",
            "_view_count": null,
            "_view_module": "@jupyter-widgets/controls",
            "_view_module_version": "1.5.0",
            "_view_name": "HBoxView",
            "box_style": "",
            "children": [
              "IPY_MODEL_6c845b6094254bb5bf33bd5d10425506",
              "IPY_MODEL_e633b1dd686945d59feb2c6aa5cedfbd",
              "IPY_MODEL_256496b507684d42b52c00c48589d075"
            ],
            "layout": "IPY_MODEL_dc0021a5a9254daaac218b22236e4d6a"
          }
        },
        "6c845b6094254bb5bf33bd5d10425506": {
          "model_module": "@jupyter-widgets/controls",
          "model_name": "HTMLModel",
          "model_module_version": "1.5.0",
          "state": {
            "_dom_classes": [],
            "_model_module": "@jupyter-widgets/controls",
            "_model_module_version": "1.5.0",
            "_model_name": "HTMLModel",
            "_view_count": null,
            "_view_module": "@jupyter-widgets/controls",
            "_view_module_version": "1.5.0",
            "_view_name": "HTMLView",
            "description": "",
            "description_tooltip": null,
            "layout": "IPY_MODEL_3a3aa754a3ab4a7f91229387598bd645",
            "placeholder": "​",
            "style": "IPY_MODEL_fac7ac84b2e346329f008b3bed483978",
            "value": "Downloading builder script: 100%"
          }
        },
        "e633b1dd686945d59feb2c6aa5cedfbd": {
          "model_module": "@jupyter-widgets/controls",
          "model_name": "FloatProgressModel",
          "model_module_version": "1.5.0",
          "state": {
            "_dom_classes": [],
            "_model_module": "@jupyter-widgets/controls",
            "_model_module_version": "1.5.0",
            "_model_name": "FloatProgressModel",
            "_view_count": null,
            "_view_module": "@jupyter-widgets/controls",
            "_view_module_version": "1.5.0",
            "_view_name": "ProgressView",
            "bar_style": "success",
            "description": "",
            "description_tooltip": null,
            "layout": "IPY_MODEL_87cfabfc711c4bfe96b9e7aa3003fa37",
            "max": 6397,
            "min": 0,
            "orientation": "horizontal",
            "style": "IPY_MODEL_ae75f4b7a3114379ad1affb52ef25b8a",
            "value": 6397
          }
        },
        "256496b507684d42b52c00c48589d075": {
          "model_module": "@jupyter-widgets/controls",
          "model_name": "HTMLModel",
          "model_module_version": "1.5.0",
          "state": {
            "_dom_classes": [],
            "_model_module": "@jupyter-widgets/controls",
            "_model_module_version": "1.5.0",
            "_model_name": "HTMLModel",
            "_view_count": null,
            "_view_module": "@jupyter-widgets/controls",
            "_view_module_version": "1.5.0",
            "_view_name": "HTMLView",
            "description": "",
            "description_tooltip": null,
            "layout": "IPY_MODEL_930ba7e1b99c4007a99f1d98c73b1b96",
            "placeholder": "​",
            "style": "IPY_MODEL_bc05d270a27a4914919dc28bf4510de9",
            "value": " 6.40k/6.40k [00:00&lt;00:00, 154kB/s]"
          }
        },
        "dc0021a5a9254daaac218b22236e4d6a": {
          "model_module": "@jupyter-widgets/base",
          "model_name": "LayoutModel",
          "model_module_version": "1.2.0",
          "state": {
            "_model_module": "@jupyter-widgets/base",
            "_model_module_version": "1.2.0",
            "_model_name": "LayoutModel",
            "_view_count": null,
            "_view_module": "@jupyter-widgets/base",
            "_view_module_version": "1.2.0",
            "_view_name": "LayoutView",
            "align_content": null,
            "align_items": null,
            "align_self": null,
            "border": null,
            "bottom": null,
            "display": null,
            "flex": null,
            "flex_flow": null,
            "grid_area": null,
            "grid_auto_columns": null,
            "grid_auto_flow": null,
            "grid_auto_rows": null,
            "grid_column": null,
            "grid_gap": null,
            "grid_row": null,
            "grid_template_areas": null,
            "grid_template_columns": null,
            "grid_template_rows": null,
            "height": null,
            "justify_content": null,
            "justify_items": null,
            "left": null,
            "margin": null,
            "max_height": null,
            "max_width": null,
            "min_height": null,
            "min_width": null,
            "object_fit": null,
            "object_position": null,
            "order": null,
            "overflow": null,
            "overflow_x": null,
            "overflow_y": null,
            "padding": null,
            "right": null,
            "top": null,
            "visibility": null,
            "width": null
          }
        },
        "3a3aa754a3ab4a7f91229387598bd645": {
          "model_module": "@jupyter-widgets/base",
          "model_name": "LayoutModel",
          "model_module_version": "1.2.0",
          "state": {
            "_model_module": "@jupyter-widgets/base",
            "_model_module_version": "1.2.0",
            "_model_name": "LayoutModel",
            "_view_count": null,
            "_view_module": "@jupyter-widgets/base",
            "_view_module_version": "1.2.0",
            "_view_name": "LayoutView",
            "align_content": null,
            "align_items": null,
            "align_self": null,
            "border": null,
            "bottom": null,
            "display": null,
            "flex": null,
            "flex_flow": null,
            "grid_area": null,
            "grid_auto_columns": null,
            "grid_auto_flow": null,
            "grid_auto_rows": null,
            "grid_column": null,
            "grid_gap": null,
            "grid_row": null,
            "grid_template_areas": null,
            "grid_template_columns": null,
            "grid_template_rows": null,
            "height": null,
            "justify_content": null,
            "justify_items": null,
            "left": null,
            "margin": null,
            "max_height": null,
            "max_width": null,
            "min_height": null,
            "min_width": null,
            "object_fit": null,
            "object_position": null,
            "order": null,
            "overflow": null,
            "overflow_x": null,
            "overflow_y": null,
            "padding": null,
            "right": null,
            "top": null,
            "visibility": null,
            "width": null
          }
        },
        "fac7ac84b2e346329f008b3bed483978": {
          "model_module": "@jupyter-widgets/controls",
          "model_name": "DescriptionStyleModel",
          "model_module_version": "1.5.0",
          "state": {
            "_model_module": "@jupyter-widgets/controls",
            "_model_module_version": "1.5.0",
            "_model_name": "DescriptionStyleModel",
            "_view_count": null,
            "_view_module": "@jupyter-widgets/base",
            "_view_module_version": "1.2.0",
            "_view_name": "StyleView",
            "description_width": ""
          }
        },
        "87cfabfc711c4bfe96b9e7aa3003fa37": {
          "model_module": "@jupyter-widgets/base",
          "model_name": "LayoutModel",
          "model_module_version": "1.2.0",
          "state": {
            "_model_module": "@jupyter-widgets/base",
            "_model_module_version": "1.2.0",
            "_model_name": "LayoutModel",
            "_view_count": null,
            "_view_module": "@jupyter-widgets/base",
            "_view_module_version": "1.2.0",
            "_view_name": "LayoutView",
            "align_content": null,
            "align_items": null,
            "align_self": null,
            "border": null,
            "bottom": null,
            "display": null,
            "flex": null,
            "flex_flow": null,
            "grid_area": null,
            "grid_auto_columns": null,
            "grid_auto_flow": null,
            "grid_auto_rows": null,
            "grid_column": null,
            "grid_gap": null,
            "grid_row": null,
            "grid_template_areas": null,
            "grid_template_columns": null,
            "grid_template_rows": null,
            "height": null,
            "justify_content": null,
            "justify_items": null,
            "left": null,
            "margin": null,
            "max_height": null,
            "max_width": null,
            "min_height": null,
            "min_width": null,
            "object_fit": null,
            "object_position": null,
            "order": null,
            "overflow": null,
            "overflow_x": null,
            "overflow_y": null,
            "padding": null,
            "right": null,
            "top": null,
            "visibility": null,
            "width": null
          }
        },
        "ae75f4b7a3114379ad1affb52ef25b8a": {
          "model_module": "@jupyter-widgets/controls",
          "model_name": "ProgressStyleModel",
          "model_module_version": "1.5.0",
          "state": {
            "_model_module": "@jupyter-widgets/controls",
            "_model_module_version": "1.5.0",
            "_model_name": "ProgressStyleModel",
            "_view_count": null,
            "_view_module": "@jupyter-widgets/base",
            "_view_module_version": "1.2.0",
            "_view_name": "StyleView",
            "bar_color": null,
            "description_width": ""
          }
        },
        "930ba7e1b99c4007a99f1d98c73b1b96": {
          "model_module": "@jupyter-widgets/base",
          "model_name": "LayoutModel",
          "model_module_version": "1.2.0",
          "state": {
            "_model_module": "@jupyter-widgets/base",
            "_model_module_version": "1.2.0",
            "_model_name": "LayoutModel",
            "_view_count": null,
            "_view_module": "@jupyter-widgets/base",
            "_view_module_version": "1.2.0",
            "_view_name": "LayoutView",
            "align_content": null,
            "align_items": null,
            "align_self": null,
            "border": null,
            "bottom": null,
            "display": null,
            "flex": null,
            "flex_flow": null,
            "grid_area": null,
            "grid_auto_columns": null,
            "grid_auto_flow": null,
            "grid_auto_rows": null,
            "grid_column": null,
            "grid_gap": null,
            "grid_row": null,
            "grid_template_areas": null,
            "grid_template_columns": null,
            "grid_template_rows": null,
            "height": null,
            "justify_content": null,
            "justify_items": null,
            "left": null,
            "margin": null,
            "max_height": null,
            "max_width": null,
            "min_height": null,
            "min_width": null,
            "object_fit": null,
            "object_position": null,
            "order": null,
            "overflow": null,
            "overflow_x": null,
            "overflow_y": null,
            "padding": null,
            "right": null,
            "top": null,
            "visibility": null,
            "width": null
          }
        },
        "bc05d270a27a4914919dc28bf4510de9": {
          "model_module": "@jupyter-widgets/controls",
          "model_name": "DescriptionStyleModel",
          "model_module_version": "1.5.0",
          "state": {
            "_model_module": "@jupyter-widgets/controls",
            "_model_module_version": "1.5.0",
            "_model_name": "DescriptionStyleModel",
            "_view_count": null,
            "_view_module": "@jupyter-widgets/base",
            "_view_module_version": "1.2.0",
            "_view_name": "StyleView",
            "description_width": ""
          }
        },
        "cea8f07f83594245a7ddebd0489c829c": {
          "model_module": "@jupyter-widgets/controls",
          "model_name": "HBoxModel",
          "model_module_version": "1.5.0",
          "state": {
            "_dom_classes": [],
            "_model_module": "@jupyter-widgets/controls",
            "_model_module_version": "1.5.0",
            "_model_name": "HBoxModel",
            "_view_count": null,
            "_view_module": "@jupyter-widgets/controls",
            "_view_module_version": "1.5.0",
            "_view_name": "HBoxView",
            "box_style": "",
            "children": [
              "IPY_MODEL_528513f90645448fae1888d80bf71f57",
              "IPY_MODEL_99f30a7326324176b57f0b5f7b6070a9",
              "IPY_MODEL_ab964950d8584a64835bbea27ae2349a"
            ],
            "layout": "IPY_MODEL_8a8ff4ed2eb845b7b86a7c1717056e55"
          }
        },
        "528513f90645448fae1888d80bf71f57": {
          "model_module": "@jupyter-widgets/controls",
          "model_name": "HTMLModel",
          "model_module_version": "1.5.0",
          "state": {
            "_dom_classes": [],
            "_model_module": "@jupyter-widgets/controls",
            "_model_module_version": "1.5.0",
            "_model_name": "HTMLModel",
            "_view_count": null,
            "_view_module": "@jupyter-widgets/controls",
            "_view_module_version": "1.5.0",
            "_view_name": "HTMLView",
            "description": "",
            "description_tooltip": null,
            "layout": "IPY_MODEL_7a00042e2f0946819dd7b1334eef2e1b",
            "placeholder": "​",
            "style": "IPY_MODEL_afe81725f02e4a289199adfd65688149",
            "value": "Downloading extra modules: 100%"
          }
        },
        "99f30a7326324176b57f0b5f7b6070a9": {
          "model_module": "@jupyter-widgets/controls",
          "model_name": "FloatProgressModel",
          "model_module_version": "1.5.0",
          "state": {
            "_dom_classes": [],
            "_model_module": "@jupyter-widgets/controls",
            "_model_module_version": "1.5.0",
            "_model_name": "FloatProgressModel",
            "_view_count": null,
            "_view_module": "@jupyter-widgets/controls",
            "_view_module_version": "1.5.0",
            "_view_name": "ProgressView",
            "bar_style": "success",
            "description": "",
            "description_tooltip": null,
            "layout": "IPY_MODEL_e2c509b00b09435491d5f91f3363da77",
            "max": 14918,
            "min": 0,
            "orientation": "horizontal",
            "style": "IPY_MODEL_5135bfe76be34eb9aa9e23263b999e92",
            "value": 14918
          }
        },
        "ab964950d8584a64835bbea27ae2349a": {
          "model_module": "@jupyter-widgets/controls",
          "model_name": "HTMLModel",
          "model_module_version": "1.5.0",
          "state": {
            "_dom_classes": [],
            "_model_module": "@jupyter-widgets/controls",
            "_model_module_version": "1.5.0",
            "_model_name": "HTMLModel",
            "_view_count": null,
            "_view_module": "@jupyter-widgets/controls",
            "_view_module_version": "1.5.0",
            "_view_name": "HTMLView",
            "description": "",
            "description_tooltip": null,
            "layout": "IPY_MODEL_1893b8c8f9ae4967bc409e2f22a2190a",
            "placeholder": "​",
            "style": "IPY_MODEL_87a75d0a79254c688202d378971ee456",
            "value": " 14.9k/14.9k [00:00&lt;00:00, 465kB/s]"
          }
        },
        "8a8ff4ed2eb845b7b86a7c1717056e55": {
          "model_module": "@jupyter-widgets/base",
          "model_name": "LayoutModel",
          "model_module_version": "1.2.0",
          "state": {
            "_model_module": "@jupyter-widgets/base",
            "_model_module_version": "1.2.0",
            "_model_name": "LayoutModel",
            "_view_count": null,
            "_view_module": "@jupyter-widgets/base",
            "_view_module_version": "1.2.0",
            "_view_name": "LayoutView",
            "align_content": null,
            "align_items": null,
            "align_self": null,
            "border": null,
            "bottom": null,
            "display": null,
            "flex": null,
            "flex_flow": null,
            "grid_area": null,
            "grid_auto_columns": null,
            "grid_auto_flow": null,
            "grid_auto_rows": null,
            "grid_column": null,
            "grid_gap": null,
            "grid_row": null,
            "grid_template_areas": null,
            "grid_template_columns": null,
            "grid_template_rows": null,
            "height": null,
            "justify_content": null,
            "justify_items": null,
            "left": null,
            "margin": null,
            "max_height": null,
            "max_width": null,
            "min_height": null,
            "min_width": null,
            "object_fit": null,
            "object_position": null,
            "order": null,
            "overflow": null,
            "overflow_x": null,
            "overflow_y": null,
            "padding": null,
            "right": null,
            "top": null,
            "visibility": null,
            "width": null
          }
        },
        "7a00042e2f0946819dd7b1334eef2e1b": {
          "model_module": "@jupyter-widgets/base",
          "model_name": "LayoutModel",
          "model_module_version": "1.2.0",
          "state": {
            "_model_module": "@jupyter-widgets/base",
            "_model_module_version": "1.2.0",
            "_model_name": "LayoutModel",
            "_view_count": null,
            "_view_module": "@jupyter-widgets/base",
            "_view_module_version": "1.2.0",
            "_view_name": "LayoutView",
            "align_content": null,
            "align_items": null,
            "align_self": null,
            "border": null,
            "bottom": null,
            "display": null,
            "flex": null,
            "flex_flow": null,
            "grid_area": null,
            "grid_auto_columns": null,
            "grid_auto_flow": null,
            "grid_auto_rows": null,
            "grid_column": null,
            "grid_gap": null,
            "grid_row": null,
            "grid_template_areas": null,
            "grid_template_columns": null,
            "grid_template_rows": null,
            "height": null,
            "justify_content": null,
            "justify_items": null,
            "left": null,
            "margin": null,
            "max_height": null,
            "max_width": null,
            "min_height": null,
            "min_width": null,
            "object_fit": null,
            "object_position": null,
            "order": null,
            "overflow": null,
            "overflow_x": null,
            "overflow_y": null,
            "padding": null,
            "right": null,
            "top": null,
            "visibility": null,
            "width": null
          }
        },
        "afe81725f02e4a289199adfd65688149": {
          "model_module": "@jupyter-widgets/controls",
          "model_name": "DescriptionStyleModel",
          "model_module_version": "1.5.0",
          "state": {
            "_model_module": "@jupyter-widgets/controls",
            "_model_module_version": "1.5.0",
            "_model_name": "DescriptionStyleModel",
            "_view_count": null,
            "_view_module": "@jupyter-widgets/base",
            "_view_module_version": "1.2.0",
            "_view_name": "StyleView",
            "description_width": ""
          }
        },
        "e2c509b00b09435491d5f91f3363da77": {
          "model_module": "@jupyter-widgets/base",
          "model_name": "LayoutModel",
          "model_module_version": "1.2.0",
          "state": {
            "_model_module": "@jupyter-widgets/base",
            "_model_module_version": "1.2.0",
            "_model_name": "LayoutModel",
            "_view_count": null,
            "_view_module": "@jupyter-widgets/base",
            "_view_module_version": "1.2.0",
            "_view_name": "LayoutView",
            "align_content": null,
            "align_items": null,
            "align_self": null,
            "border": null,
            "bottom": null,
            "display": null,
            "flex": null,
            "flex_flow": null,
            "grid_area": null,
            "grid_auto_columns": null,
            "grid_auto_flow": null,
            "grid_auto_rows": null,
            "grid_column": null,
            "grid_gap": null,
            "grid_row": null,
            "grid_template_areas": null,
            "grid_template_columns": null,
            "grid_template_rows": null,
            "height": null,
            "justify_content": null,
            "justify_items": null,
            "left": null,
            "margin": null,
            "max_height": null,
            "max_width": null,
            "min_height": null,
            "min_width": null,
            "object_fit": null,
            "object_position": null,
            "order": null,
            "overflow": null,
            "overflow_x": null,
            "overflow_y": null,
            "padding": null,
            "right": null,
            "top": null,
            "visibility": null,
            "width": null
          }
        },
        "5135bfe76be34eb9aa9e23263b999e92": {
          "model_module": "@jupyter-widgets/controls",
          "model_name": "ProgressStyleModel",
          "model_module_version": "1.5.0",
          "state": {
            "_model_module": "@jupyter-widgets/controls",
            "_model_module_version": "1.5.0",
            "_model_name": "ProgressStyleModel",
            "_view_count": null,
            "_view_module": "@jupyter-widgets/base",
            "_view_module_version": "1.2.0",
            "_view_name": "StyleView",
            "bar_color": null,
            "description_width": ""
          }
        },
        "1893b8c8f9ae4967bc409e2f22a2190a": {
          "model_module": "@jupyter-widgets/base",
          "model_name": "LayoutModel",
          "model_module_version": "1.2.0",
          "state": {
            "_model_module": "@jupyter-widgets/base",
            "_model_module_version": "1.2.0",
            "_model_name": "LayoutModel",
            "_view_count": null,
            "_view_module": "@jupyter-widgets/base",
            "_view_module_version": "1.2.0",
            "_view_name": "LayoutView",
            "align_content": null,
            "align_items": null,
            "align_self": null,
            "border": null,
            "bottom": null,
            "display": null,
            "flex": null,
            "flex_flow": null,
            "grid_area": null,
            "grid_auto_columns": null,
            "grid_auto_flow": null,
            "grid_auto_rows": null,
            "grid_column": null,
            "grid_gap": null,
            "grid_row": null,
            "grid_template_areas": null,
            "grid_template_columns": null,
            "grid_template_rows": null,
            "height": null,
            "justify_content": null,
            "justify_items": null,
            "left": null,
            "margin": null,
            "max_height": null,
            "max_width": null,
            "min_height": null,
            "min_width": null,
            "object_fit": null,
            "object_position": null,
            "order": null,
            "overflow": null,
            "overflow_x": null,
            "overflow_y": null,
            "padding": null,
            "right": null,
            "top": null,
            "visibility": null,
            "width": null
          }
        },
        "87a75d0a79254c688202d378971ee456": {
          "model_module": "@jupyter-widgets/controls",
          "model_name": "DescriptionStyleModel",
          "model_module_version": "1.5.0",
          "state": {
            "_model_module": "@jupyter-widgets/controls",
            "_model_module_version": "1.5.0",
            "_model_name": "DescriptionStyleModel",
            "_view_count": null,
            "_view_module": "@jupyter-widgets/base",
            "_view_module_version": "1.2.0",
            "_view_name": "StyleView",
            "description_width": ""
          }
        }
      }
    }
  },
  "cells": [
    {
      "cell_type": "markdown",
      "metadata": {
        "id": "view-in-github",
        "colab_type": "text"
      },
      "source": [
        "<a href=\"https://colab.research.google.com/github/hiu04/NLP-Deep-Learning/blob/main/A2_Object_Detection.ipynb\" target=\"_parent\"><img src=\"https://colab.research.google.com/assets/colab-badge.svg\" alt=\"Open In Colab\"/></a>"
      ]
    },
    {
      "cell_type": "code",
      "source": [
        "!unzip /content/export_data.zip -d /content/data"
      ],
      "metadata": {
        "id": "7SKTWMWx8jhb"
      },
      "execution_count": null,
      "outputs": []
    },
    {
      "cell_type": "markdown",
      "source": [
        "## Load the data with Huggingface's DatasetDict"
      ],
      "metadata": {
        "id": "dDxl9HB1mtGP"
      }
    },
    {
      "cell_type": "code",
      "source": [
        "# Read the COCO formatted annotations to a dict, the json file download from\n",
        "# Lable studio\n",
        "import json\n",
        "with open('/content/data/result.json') as f:\n",
        "  cocodata = json.load(f)"
      ],
      "metadata": {
        "id": "zaD7svDeGDWw"
      },
      "execution_count": null,
      "outputs": []
    },
    {
      "cell_type": "code",
      "source": [
        "# Convert the COCO formatted dict to a format readable by dataset.load_dataset()\n",
        "\n",
        "# Store Huggingface formated data in a list\n",
        "huggingdata = []\n",
        "# Iterate through the images\n",
        "for image in cocodata['images']:\n",
        "  # Remove the image directory from the file name\n",
        "  image['file_name'] = image['file_name'].split('/')[-1]\n",
        "  image['image_id'] = image['id']\n",
        "  # Extend the image dict with bounding boxes and class labels\n",
        "  image['objects'] = {'bbox': [], 'category': [], 'area': [], 'id': []}\n",
        "  # Iterate through the annotations (bounding boxes and labels)\n",
        "  for annot in cocodata['annotations']:\n",
        "    # Check if the annotation matches the image\n",
        "    if annot['image_id'] == image['id']:\n",
        "      # Add the annotation\n",
        "      image['objects']['bbox'].append(annot['bbox'])\n",
        "      image['objects']['category'].append(annot['category_id'])\n",
        "      image['objects']['area'].append(annot['area'])\n",
        "      image['objects']['id'].append(annot['id'])\n",
        "  # Append the image dict with annotations to the list\n",
        "  huggingdata.append(image)"
      ],
      "metadata": {
        "id": "4mLyDfdHGUTo"
      },
      "execution_count": null,
      "outputs": []
    },
    {
      "cell_type": "code",
      "source": [
        "# Write the Huggingface formatted annotations to a json file\n",
        "with open(\"/content/data/images/metadata.jsonl\", 'w') as f:\n",
        "  for item in huggingdata:\n",
        "    f.write(json.dumps(item) + \"\\n\")"
      ],
      "metadata": {
        "id": "GgiVHtJ6Gc7M"
      },
      "execution_count": null,
      "outputs": []
    },
    {
      "cell_type": "markdown",
      "source": [
        "- Follow Create an image dataset and the section Create an image dataset: object detection to organize the images and metadata.jsonl into the correct folder structure.\n",
        "\n"
      ],
      "metadata": {
        "id": "xhvhYQSlArd0"
      }
    },
    {
      "cell_type": "code",
      "source": [
        "!pip install datasets"
      ],
      "metadata": {
        "id": "zuK4geotA9tw"
      },
      "execution_count": null,
      "outputs": []
    },
    {
      "cell_type": "code",
      "source": [
        "#  Read the data into a DatasetDict.\n",
        "\n",
        "from datasets import load_dataset\n",
        "dataset = load_dataset('imagefolder', data_dir=\"/content/data/images\")\n"
      ],
      "metadata": {
        "id": "hZXxzPofHz2d"
      },
      "execution_count": null,
      "outputs": []
    },
    {
      "cell_type": "code",
      "source": [
        "dataset"
      ],
      "metadata": {
        "colab": {
          "base_uri": "https://localhost:8080/"
        },
        "id": "rkrEzPNZhIgy",
        "outputId": "1bd19ccf-c48c-441b-9589-4d4d7b3e6809"
      },
      "execution_count": null,
      "outputs": [
        {
          "output_type": "execute_result",
          "data": {
            "text/plain": [
              "DatasetDict({\n",
              "    train: Dataset({\n",
              "        features: ['image', 'width', 'height', 'id', 'image_id', 'objects'],\n",
              "        num_rows: 11\n",
              "    })\n",
              "})"
            ]
          },
          "metadata": {},
          "execution_count": 8
        }
      ]
    },
    {
      "cell_type": "code",
      "source": [
        "train_dataset = dataset['train']\n",
        "\n",
        "# Split the train dataset\n",
        "dataset1 = train_dataset.train_test_split(test_size=0.2)\n",
        "print(dataset1)\n"
      ],
      "metadata": {
        "id": "s0sW-J7TfVuq",
        "colab": {
          "base_uri": "https://localhost:8080/"
        },
        "outputId": "c64504da-11f2-48ca-cb27-8c1185bc8c2f"
      },
      "execution_count": null,
      "outputs": [
        {
          "output_type": "stream",
          "name": "stdout",
          "text": [
            "DatasetDict({\n",
            "    train: Dataset({\n",
            "        features: ['image', 'width', 'height', 'id', 'image_id', 'objects'],\n",
            "        num_rows: 8\n",
            "    })\n",
            "    test: Dataset({\n",
            "        features: ['image', 'width', 'height', 'id', 'image_id', 'objects'],\n",
            "        num_rows: 3\n",
            "    })\n",
            "})\n"
          ]
        }
      ]
    },
    {
      "cell_type": "code",
      "source": [
        "from datasets.arrow_dataset import dataset_to_tf\n",
        "import numpy as np\n",
        "import os\n",
        "from PIL import Image, ImageDraw\n",
        "\n",
        "image_data = dataset1[\"train\"][0]\n",
        "annotations = image_data[\"objects\"]\n",
        "\n",
        "image = image_data[\"image\"]\n",
        "\n",
        "draw = ImageDraw.Draw(image)\n",
        "\n",
        "\n",
        "# Initialize an empty set to store unique category IDs\n",
        "category_ids = set()\n",
        "\n",
        "# Iterate through the dataset to collect unique category IDs\n",
        "for item in dataset1[\"train\"]:\n",
        "    for obj in item[\"objects\"][\"category\"]:  # 'category' is a sequence of integers\n",
        "        category_ids.add(obj)\n",
        "\n",
        "# Now category_ids is a set of all unique category IDs\n",
        "print(category_ids)\n",
        "\n"
      ],
      "metadata": {
        "colab": {
          "base_uri": "https://localhost:8080/"
        },
        "id": "gqwdybpUjdcY",
        "outputId": "e28fa138-4996-416a-f95d-106e9d0e7204"
      },
      "execution_count": null,
      "outputs": [
        {
          "output_type": "stream",
          "name": "stdout",
          "text": [
            "{0, 1, 2, 3, 4, 5, 6, 7}\n"
          ]
        }
      ]
    },
    {
      "cell_type": "code",
      "source": [
        "# You can then create your id2label and label2id mappings\n",
        "id2label = {item['id']: item['name'] for item in cocodata['categories']}\n",
        "label2id = {v: k for k, v in id2label.items()}\n",
        "\n",
        "\n",
        "for i in range(len(annotations[\"id\"])):\n",
        "    box = annotations[\"bbox\"][i]\n",
        "    class_idx = annotations[\"category\"][i]\n",
        "    x, y, w, h = tuple(box)\n",
        "    draw.rectangle((x, y, x + w, y + h), outline=\"red\", width=1)\n",
        "    draw.text((x, y), id2label[class_idx], fill=\"white\")\n",
        "\n",
        "image"
      ],
      "metadata": {
        "colab": {
          "base_uri": "https://localhost:8080/",
          "height": 242
        },
        "id": "8FnHq8h0lVLe",
        "outputId": "2e16e749-a906-42b3-90f6-87ace30c9f63"
      },
      "execution_count": null,
      "outputs": [
        {
          "output_type": "execute_result",
          "data": {
            "text/plain": [
              "<PIL.JpegImagePlugin.JpegImageFile image mode=RGB size=300x225>"
            ],
            "image/png": "[encoded data removed]"
          },
          "metadata": {},
          "execution_count": 7
        }
      ]
    },
    {
      "cell_type": "markdown",
      "source": [
        "## Preprocess the data"
      ],
      "metadata": {
        "id": "KDP87yktmqrU"
      }
    },
    {
      "cell_type": "code",
      "source": [
        "!pip install transformers"
      ],
      "metadata": {
        "id": "MqJQjcSxnN9o"
      },
      "execution_count": null,
      "outputs": []
    },
    {
      "cell_type": "code",
      "source": [
        "from transformers import AutoImageProcessor\n",
        "\n",
        "checkpoint = \"facebook/detr-resnet-50\"\n",
        "image_processor = AutoImageProcessor.from_pretrained(checkpoint)"
      ],
      "metadata": {
        "id": "qQr2MiHGm2kb",
        "colab": {
          "base_uri": "https://localhost:8080/"
        },
        "outputId": "61345184-3b79-4868-ed19-d3cd482f9630"
      },
      "execution_count": null,
      "outputs": [
        {
          "output_type": "stream",
          "name": "stderr",
          "text": [
            "Could not find image processor class in the image processor config or the model config. Loading based on pattern matching with the model's feature extractor configuration.\n"
          ]
        }
      ]
    },
    {
      "cell_type": "code",
      "source": [
        "import albumentations\n",
        "import numpy as np\n",
        "import torch\n",
        "\n",
        "transform = albumentations.Compose(\n",
        "    [\n",
        "        albumentations.Resize(500, 500),\n",
        "        albumentations.HorizontalFlip(p=1.0),\n",
        "        albumentations.RandomBrightnessContrast(p=1.0),\n",
        "    ],\n",
        "    bbox_params=albumentations.BboxParams(format=\"coco\", label_fields=[\"category\"]),\n",
        ")"
      ],
      "metadata": {
        "id": "lTd-ZB0bnW8V"
      },
      "execution_count": null,
      "outputs": []
    },
    {
      "cell_type": "code",
      "source": [
        "def formatted_anns(image_id, category, area, bbox):\n",
        "    annotations = []\n",
        "    for i in range(0, len(category)):\n",
        "        new_ann = {\n",
        "            \"image_id\": image_id,\n",
        "            \"category_id\": category[i],\n",
        "            \"isCrowd\": 0,\n",
        "            \"area\": area[i],\n",
        "            \"bbox\": list(bbox[i]),\n",
        "        }\n",
        "        annotations.append(new_ann)\n",
        "\n",
        "    return annotations"
      ],
      "metadata": {
        "id": "zHKUUH3PnhG9"
      },
      "execution_count": null,
      "outputs": []
    },
    {
      "cell_type": "code",
      "source": [
        "# transforming a batch\n",
        "def transform_aug_ann(examples):\n",
        "    image_ids = examples[\"image_id\"]\n",
        "    images, bboxes, area, categories = [], [], [], []\n",
        "    for image, objects in zip(examples[\"image\"], examples[\"objects\"]):\n",
        "        image = np.array(image.convert(\"RGB\"))[:, :, ::-1]\n",
        "        out = transform(image=image, bboxes=objects[\"bbox\"], category=objects[\"category\"])\n",
        "\n",
        "        area.append(objects[\"area\"])\n",
        "        images.append(out[\"image\"])\n",
        "        bboxes.append(out[\"bboxes\"])\n",
        "        categories.append(out[\"category\"])\n",
        "\n",
        "    targets = [\n",
        "        {\"image_id\": id_, \"annotations\": formatted_anns(id_, cat_, ar_, box_)}\n",
        "        for id_, cat_, ar_, box_ in zip(image_ids, categories, area, bboxes)\n",
        "    ]\n",
        "\n",
        "    return image_processor(images=images, annotations=targets, return_tensors=\"pt\")"
      ],
      "metadata": {
        "id": "i3RhnqJhniai"
      },
      "execution_count": null,
      "outputs": []
    },
    {
      "cell_type": "code",
      "source": [
        "dataset1[\"train\"] = dataset1[\"train\"].with_transform(transform_aug_ann)"
      ],
      "metadata": {
        "id": "Bu4yAIdCnqgr"
      },
      "execution_count": null,
      "outputs": []
    },
    {
      "cell_type": "code",
      "source": [
        "def collate_fn(batch):\n",
        "    pixel_values = [item[\"pixel_values\"] for item in batch]\n",
        "    encoding = image_processor.pad(pixel_values, return_tensors=\"pt\")\n",
        "    labels = [item[\"labels\"] for item in batch]\n",
        "    batch = {}\n",
        "    batch[\"pixel_values\"] = encoding[\"pixel_values\"]\n",
        "    batch[\"pixel_mask\"] = encoding[\"pixel_mask\"]\n",
        "    batch[\"labels\"] = labels\n",
        "    return batch"
      ],
      "metadata": {
        "id": "pevwprkmn659"
      },
      "execution_count": null,
      "outputs": []
    },
    {
      "cell_type": "markdown",
      "source": [
        "## Training the DETR model"
      ],
      "metadata": {
        "id": "TiNCCu31n-nr"
      }
    },
    {
      "cell_type": "code",
      "source": [
        "!pip install timm\n",
        "!pip install transformers[torch]"
      ],
      "metadata": {
        "id": "eOtnVwRLMJQU"
      },
      "execution_count": null,
      "outputs": []
    },
    {
      "cell_type": "code",
      "source": [
        "from transformers import AutoModelForObjectDetection\n",
        "\n",
        "model = AutoModelForObjectDetection.from_pretrained(\n",
        "    checkpoint,\n",
        "    id2label=id2label,\n",
        "    label2id=label2id,\n",
        "    ignore_mismatched_sizes=True,\n",
        ")"
      ],
      "metadata": {
        "id": "RrzriUD5n-RQ",
        "colab": {
          "base_uri": "https://localhost:8080/"
        },
        "outputId": "77dd6733-33d4-4a66-dac4-60e5e6ae3ab5"
      },
      "execution_count": null,
      "outputs": [
        {
          "output_type": "stream",
          "name": "stderr",
          "text": [
            "Some weights of the model checkpoint at facebook/detr-resnet-50 were not used when initializing DetrForObjectDetection: ['model.backbone.conv_encoder.model.layer2.0.downsample.1.num_batches_tracked', 'model.backbone.conv_encoder.model.layer1.0.downsample.1.num_batches_tracked', 'model.backbone.conv_encoder.model.layer4.0.downsample.1.num_batches_tracked', 'model.backbone.conv_encoder.model.layer3.0.downsample.1.num_batches_tracked']\n",
            "- This IS expected if you are initializing DetrForObjectDetection from the checkpoint of a model trained on another task or with another architecture (e.g. initializing a BertForSequenceClassification model from a BertForPreTraining model).\n",
            "- This IS NOT expected if you are initializing DetrForObjectDetection from the checkpoint of a model that you expect to be exactly identical (initializing a BertForSequenceClassification model from a BertForSequenceClassification model).\n",
            "Some weights of DetrForObjectDetection were not initialized from the model checkpoint at facebook/detr-resnet-50 and are newly initialized because the shapes did not match:\n",
            "- class_labels_classifier.weight: found shape torch.Size([92, 256]) in the checkpoint and torch.Size([9, 256]) in the model instantiated\n",
            "- class_labels_classifier.bias: found shape torch.Size([92]) in the checkpoint and torch.Size([9]) in the model instantiated\n",
            "You should probably TRAIN this model on a down-stream task to be able to use it for predictions and inference.\n"
          ]
        }
      ]
    },
    {
      "cell_type": "code",
      "source": [
        "from transformers import TrainingArguments\n",
        "\n",
        "training_args = TrainingArguments(\n",
        "    output_dir=\"/content\",\n",
        "    per_device_train_batch_size=8,\n",
        "    num_train_epochs=1000,\n",
        "    fp16= False,\n",
        "    save_steps=200,\n",
        "    logging_steps=10,\n",
        "    learning_rate=1e-5,\n",
        "    weight_decay=1e-4,\n",
        "    save_total_limit=2,\n",
        "    remove_unused_columns=False,\n",
        "    push_to_hub=False,\n",
        ")"
      ],
      "metadata": {
        "id": "WMIor2eJMtNM"
      },
      "execution_count": null,
      "outputs": []
    },
    {
      "cell_type": "code",
      "source": [
        "from transformers import Trainer\n",
        "\n",
        "trainer = Trainer(\n",
        "    model=model,\n",
        "    args=training_args,\n",
        "    data_collator=collate_fn,\n",
        "    train_dataset=dataset1[\"train\"],\n",
        "    tokenizer=image_processor,\n",
        ")"
      ],
      "metadata": {
        "id": "6DxeVhhy9BJX"
      },
      "execution_count": null,
      "outputs": []
    },
    {
      "cell_type": "code",
      "source": [
        "trainer.train()"
      ],
      "metadata": {
        "id": "VUebNBE_TbAY",
        "colab": {
          "base_uri": "https://localhost:8080/",
          "height": 1000
        },
        "outputId": "32bc1580-41dc-4d3f-9cfb-de53f61fcf93"
      },
      "execution_count": null,
      "outputs": [
        {
          "output_type": "display_data",
          "data": {
            "text/plain": [
              "<IPython.core.display.HTML object>"
            ],
            "text/html": [
              "\n",
              "    <div>\n",
              "      \n",
              "      <progress value='1000' max='1000' style='width:300px; height:20px; vertical-align: middle;'></progress>\n",
              "      [1000/1000 26:50, Epoch 1000/1000]\n",
              "    </div>\n",
              "    <table border=\"1\" class=\"dataframe\">\n",
              "  <thead>\n",
              " <tr style=\"text-align: left;\">\n",
              "      <th>Step</th>\n",
              "      <th>Training Loss</th>\n",
              "    </tr>\n",
              "  </thead>\n",
              "  <tbody>\n",
              "    <tr>\n",
              "      <td>10</td>\n",
              "      <td>2.278400</td>\n",
              "    </tr>\n",
              "    <tr>\n",
              "      <td>20</td>\n",
              "      <td>2.216000</td>\n",
              "    </tr>\n",
              "    <tr>\n",
              "      <td>30</td>\n",
              "      <td>2.166500</td>\n",
              "    </tr>\n",
              "    <tr>\n",
              "      <td>40</td>\n",
              "      <td>2.119000</td>\n",
              "    </tr>\n",
              "    <tr>\n",
              "      <td>50</td>\n",
              "      <td>2.075000</td>\n",
              "    </tr>\n",
              "    <tr>\n",
              "      <td>60</td>\n",
              "      <td>2.027500</td>\n",
              "    </tr>\n",
              "    <tr>\n",
              "      <td>70</td>\n",
              "      <td>1.982900</td>\n",
              "    </tr>\n",
              "    <tr>\n",
              "      <td>80</td>\n",
              "      <td>1.944100</td>\n",
              "    </tr>\n",
              "    <tr>\n",
              "      <td>90</td>\n",
              "      <td>1.898100</td>\n",
              "    </tr>\n",
              "    <tr>\n",
              "      <td>100</td>\n",
              "      <td>1.856700</td>\n",
              "    </tr>\n",
              "    <tr>\n",
              "      <td>110</td>\n",
              "      <td>1.808700</td>\n",
              "    </tr>\n",
              "    <tr>\n",
              "      <td>120</td>\n",
              "      <td>1.759900</td>\n",
              "    </tr>\n",
              "    <tr>\n",
              "      <td>130</td>\n",
              "      <td>1.731700</td>\n",
              "    </tr>\n",
              "    <tr>\n",
              "      <td>140</td>\n",
              "      <td>1.690600</td>\n",
              "    </tr>\n",
              "    <tr>\n",
              "      <td>150</td>\n",
              "      <td>1.646400</td>\n",
              "    </tr>\n",
              "    <tr>\n",
              "      <td>160</td>\n",
              "      <td>1.596800</td>\n",
              "    </tr>\n",
              "    <tr>\n",
              "      <td>170</td>\n",
              "      <td>1.546900</td>\n",
              "    </tr>\n",
              "    <tr>\n",
              "      <td>180</td>\n",
              "      <td>1.515500</td>\n",
              "    </tr>\n",
              "    <tr>\n",
              "      <td>190</td>\n",
              "      <td>1.473100</td>\n",
              "    </tr>\n",
              "    <tr>\n",
              "      <td>200</td>\n",
              "      <td>1.432300</td>\n",
              "    </tr>\n",
              "    <tr>\n",
              "      <td>210</td>\n",
              "      <td>1.391600</td>\n",
              "    </tr>\n",
              "    <tr>\n",
              "      <td>220</td>\n",
              "      <td>1.353000</td>\n",
              "    </tr>\n",
              "    <tr>\n",
              "      <td>230</td>\n",
              "      <td>1.322800</td>\n",
              "    </tr>\n",
              "    <tr>\n",
              "      <td>240</td>\n",
              "      <td>1.272900</td>\n",
              "    </tr>\n",
              "    <tr>\n",
              "      <td>250</td>\n",
              "      <td>1.243100</td>\n",
              "    </tr>\n",
              "    <tr>\n",
              "      <td>260</td>\n",
              "      <td>1.221400</td>\n",
              "    </tr>\n",
              "    <tr>\n",
              "      <td>270</td>\n",
              "      <td>1.184900</td>\n",
              "    </tr>\n",
              "    <tr>\n",
              "      <td>280</td>\n",
              "      <td>1.145000</td>\n",
              "    </tr>\n",
              "    <tr>\n",
              "      <td>290</td>\n",
              "      <td>1.110500</td>\n",
              "    </tr>\n",
              "    <tr>\n",
              "      <td>300</td>\n",
              "      <td>1.073000</td>\n",
              "    </tr>\n",
              "    <tr>\n",
              "      <td>310</td>\n",
              "      <td>1.042500</td>\n",
              "    </tr>\n",
              "    <tr>\n",
              "      <td>320</td>\n",
              "      <td>1.018000</td>\n",
              "    </tr>\n",
              "    <tr>\n",
              "      <td>330</td>\n",
              "      <td>0.986600</td>\n",
              "    </tr>\n",
              "    <tr>\n",
              "      <td>340</td>\n",
              "      <td>0.954600</td>\n",
              "    </tr>\n",
              "    <tr>\n",
              "      <td>350</td>\n",
              "      <td>0.936400</td>\n",
              "    </tr>\n",
              "    <tr>\n",
              "      <td>360</td>\n",
              "      <td>0.909300</td>\n",
              "    </tr>\n",
              "    <tr>\n",
              "      <td>370</td>\n",
              "      <td>0.881900</td>\n",
              "    </tr>\n",
              "    <tr>\n",
              "      <td>380</td>\n",
              "      <td>0.866200</td>\n",
              "    </tr>\n",
              "    <tr>\n",
              "      <td>390</td>\n",
              "      <td>0.848000</td>\n",
              "    </tr>\n",
              "    <tr>\n",
              "      <td>400</td>\n",
              "      <td>0.830200</td>\n",
              "    </tr>\n",
              "    <tr>\n",
              "      <td>410</td>\n",
              "      <td>0.805900</td>\n",
              "    </tr>\n",
              "    <tr>\n",
              "      <td>420</td>\n",
              "      <td>0.787600</td>\n",
              "    </tr>\n",
              "    <tr>\n",
              "      <td>430</td>\n",
              "      <td>0.760300</td>\n",
              "    </tr>\n",
              "    <tr>\n",
              "      <td>440</td>\n",
              "      <td>0.753500</td>\n",
              "    </tr>\n",
              "    <tr>\n",
              "      <td>450</td>\n",
              "      <td>0.730600</td>\n",
              "    </tr>\n",
              "    <tr>\n",
              "      <td>460</td>\n",
              "      <td>0.718300</td>\n",
              "    </tr>\n",
              "    <tr>\n",
              "      <td>470</td>\n",
              "      <td>0.699700</td>\n",
              "    </tr>\n",
              "    <tr>\n",
              "      <td>480</td>\n",
              "      <td>0.688300</td>\n",
              "    </tr>\n",
              "    <tr>\n",
              "      <td>490</td>\n",
              "      <td>0.675700</td>\n",
              "    </tr>\n",
              "    <tr>\n",
              "      <td>500</td>\n",
              "      <td>0.663300</td>\n",
              "    </tr>\n",
              "    <tr>\n",
              "      <td>510</td>\n",
              "      <td>0.652000</td>\n",
              "    </tr>\n",
              "    <tr>\n",
              "      <td>520</td>\n",
              "      <td>0.633200</td>\n",
              "    </tr>\n",
              "    <tr>\n",
              "      <td>530</td>\n",
              "      <td>0.626300</td>\n",
              "    </tr>\n",
              "    <tr>\n",
              "      <td>540</td>\n",
              "      <td>0.620300</td>\n",
              "    </tr>\n",
              "    <tr>\n",
              "      <td>550</td>\n",
              "      <td>0.612700</td>\n",
              "    </tr>\n",
              "    <tr>\n",
              "      <td>560</td>\n",
              "      <td>0.602600</td>\n",
              "    </tr>\n",
              "    <tr>\n",
              "      <td>570</td>\n",
              "      <td>0.594600</td>\n",
              "    </tr>\n",
              "    <tr>\n",
              "      <td>580</td>\n",
              "      <td>0.577700</td>\n",
              "    </tr>\n",
              "    <tr>\n",
              "      <td>590</td>\n",
              "      <td>0.575700</td>\n",
              "    </tr>\n",
              "    <tr>\n",
              "      <td>600</td>\n",
              "      <td>0.569000</td>\n",
              "    </tr>\n",
              "    <tr>\n",
              "      <td>610</td>\n",
              "      <td>0.559500</td>\n",
              "    </tr>\n",
              "    <tr>\n",
              "      <td>620</td>\n",
              "      <td>0.552400</td>\n",
              "    </tr>\n",
              "    <tr>\n",
              "      <td>630</td>\n",
              "      <td>0.544000</td>\n",
              "    </tr>\n",
              "    <tr>\n",
              "      <td>640</td>\n",
              "      <td>0.541400</td>\n",
              "    </tr>\n",
              "    <tr>\n",
              "      <td>650</td>\n",
              "      <td>0.529900</td>\n",
              "    </tr>\n",
              "    <tr>\n",
              "      <td>660</td>\n",
              "      <td>0.530700</td>\n",
              "    </tr>\n",
              "    <tr>\n",
              "      <td>670</td>\n",
              "      <td>0.522000</td>\n",
              "    </tr>\n",
              "    <tr>\n",
              "      <td>680</td>\n",
              "      <td>0.519500</td>\n",
              "    </tr>\n",
              "    <tr>\n",
              "      <td>690</td>\n",
              "      <td>0.512300</td>\n",
              "    </tr>\n",
              "    <tr>\n",
              "      <td>700</td>\n",
              "      <td>0.506400</td>\n",
              "    </tr>\n",
              "    <tr>\n",
              "      <td>710</td>\n",
              "      <td>0.501300</td>\n",
              "    </tr>\n",
              "    <tr>\n",
              "      <td>720</td>\n",
              "      <td>0.503900</td>\n",
              "    </tr>\n",
              "    <tr>\n",
              "      <td>730</td>\n",
              "      <td>0.502200</td>\n",
              "    </tr>\n",
              "    <tr>\n",
              "      <td>740</td>\n",
              "      <td>0.487900</td>\n",
              "    </tr>\n",
              "    <tr>\n",
              "      <td>750</td>\n",
              "      <td>0.489600</td>\n",
              "    </tr>\n",
              "    <tr>\n",
              "      <td>760</td>\n",
              "      <td>0.479200</td>\n",
              "    </tr>\n",
              "    <tr>\n",
              "      <td>770</td>\n",
              "      <td>0.478000</td>\n",
              "    </tr>\n",
              "    <tr>\n",
              "      <td>780</td>\n",
              "      <td>0.473700</td>\n",
              "    </tr>\n",
              "    <tr>\n",
              "      <td>790</td>\n",
              "      <td>0.470400</td>\n",
              "    </tr>\n",
              "    <tr>\n",
              "      <td>800</td>\n",
              "      <td>0.469200</td>\n",
              "    </tr>\n",
              "    <tr>\n",
              "      <td>810</td>\n",
              "      <td>0.469300</td>\n",
              "    </tr>\n",
              "    <tr>\n",
              "      <td>820</td>\n",
              "      <td>0.465700</td>\n",
              "    </tr>\n",
              "    <tr>\n",
              "      <td>830</td>\n",
              "      <td>0.459500</td>\n",
              "    </tr>\n",
              "    <tr>\n",
              "      <td>840</td>\n",
              "      <td>0.461700</td>\n",
              "    </tr>\n",
              "    <tr>\n",
              "      <td>850</td>\n",
              "      <td>0.456800</td>\n",
              "    </tr>\n",
              "    <tr>\n",
              "      <td>860</td>\n",
              "      <td>0.455200</td>\n",
              "    </tr>\n",
              "    <tr>\n",
              "      <td>870</td>\n",
              "      <td>0.449400</td>\n",
              "    </tr>\n",
              "    <tr>\n",
              "      <td>880</td>\n",
              "      <td>0.448700</td>\n",
              "    </tr>\n",
              "    <tr>\n",
              "      <td>890</td>\n",
              "      <td>0.449500</td>\n",
              "    </tr>\n",
              "    <tr>\n",
              "      <td>900</td>\n",
              "      <td>0.454300</td>\n",
              "    </tr>\n",
              "    <tr>\n",
              "      <td>910</td>\n",
              "      <td>0.448300</td>\n",
              "    </tr>\n",
              "    <tr>\n",
              "      <td>920</td>\n",
              "      <td>0.444300</td>\n",
              "    </tr>\n",
              "    <tr>\n",
              "      <td>930</td>\n",
              "      <td>0.445500</td>\n",
              "    </tr>\n",
              "    <tr>\n",
              "      <td>940</td>\n",
              "      <td>0.441100</td>\n",
              "    </tr>\n",
              "    <tr>\n",
              "      <td>950</td>\n",
              "      <td>0.444600</td>\n",
              "    </tr>\n",
              "    <tr>\n",
              "      <td>960</td>\n",
              "      <td>0.437600</td>\n",
              "    </tr>\n",
              "    <tr>\n",
              "      <td>970</td>\n",
              "      <td>0.443600</td>\n",
              "    </tr>\n",
              "    <tr>\n",
              "      <td>980</td>\n",
              "      <td>0.445100</td>\n",
              "    </tr>\n",
              "    <tr>\n",
              "      <td>990</td>\n",
              "      <td>0.438300</td>\n",
              "    </tr>\n",
              "    <tr>\n",
              "      <td>1000</td>\n",
              "      <td>0.438500</td>\n",
              "    </tr>\n",
              "  </tbody>\n",
              "</table><p>"
            ]
          },
          "metadata": {}
        },
        {
          "output_type": "execute_result",
          "data": {
            "text/plain": [
              "TrainOutput(global_step=1000, training_loss=0.9087568988800049, metrics={'train_runtime': 1613.0547, 'train_samples_per_second': 4.96, 'train_steps_per_second': 0.62, 'total_flos': 3.82259745792e+18, 'train_loss': 0.9087568988800049, 'epoch': 1000.0})"
            ]
          },
          "metadata": {},
          "execution_count": 32
        }
      ]
    },
    {
      "cell_type": "code",
      "source": [
        "trainer.save_model('/content/candy_detector')"
      ],
      "metadata": {
        "id": "leYSBBxry7cK"
      },
      "execution_count": null,
      "outputs": []
    },
    {
      "cell_type": "markdown",
      "source": [
        "## Evaluate"
      ],
      "metadata": {
        "id": "WKbp3sxqse_c"
      }
    },
    {
      "cell_type": "code",
      "source": [
        "import json\n",
        "\n",
        "\n",
        "# format annotations the same as for training, no need for data augmentation\n",
        "def val_formatted_anns(image_id, objects):\n",
        "    annotations = []\n",
        "    for i in range(0, len(objects[\"id\"])):\n",
        "        new_ann = {\n",
        "            \"id\": objects[\"id\"][i],\n",
        "            \"category_id\": objects[\"category\"][i],\n",
        "            \"iscrowd\": 0,\n",
        "            \"image_id\": image_id,\n",
        "            \"area\": objects[\"area\"][i],\n",
        "            \"bbox\": objects[\"bbox\"][i],\n",
        "        }\n",
        "        annotations.append(new_ann)\n",
        "\n",
        "    return annotations"
      ],
      "metadata": {
        "id": "UDjYr-Jdsh7-"
      },
      "execution_count": null,
      "outputs": []
    },
    {
      "cell_type": "code",
      "source": [
        "# Save images and annotations into the files torchvision.datasets.CocoDetection expects\n",
        "def save_cppe5_annotation_file_images(cppe5):\n",
        "    output_json = {}\n",
        "    path_output_cppe5 = f\"{os.getcwd()}/cppe5/\"\n",
        "\n",
        "    if not os.path.exists(path_output_cppe5):\n",
        "        os.makedirs(path_output_cppe5)\n",
        "\n",
        "    path_anno = os.path.join(path_output_cppe5, \"cppe5_ann.json\")\n",
        "    categories_json = [{\"supercategory\": \"none\", \"id\": id, \"name\": id2label[id]} for id in id2label]\n",
        "    output_json[\"images\"] = []\n",
        "    output_json[\"annotations\"] = []\n",
        "    for example in cppe5:\n",
        "        ann = val_formatted_anns(example[\"image_id\"], example[\"objects\"])\n",
        "        output_json[\"images\"].append(\n",
        "            {\n",
        "                \"id\": example[\"image_id\"],\n",
        "                \"width\": example[\"image\"].width,\n",
        "                \"height\": example[\"image\"].height,\n",
        "                \"file_name\": f\"{example['image_id']}.png\",\n",
        "            }\n",
        "        )\n",
        "        output_json[\"annotations\"].extend(ann)\n",
        "    output_json[\"categories\"] = categories_json\n",
        "\n",
        "    with open(path_anno, \"w\") as file:\n",
        "        json.dump(output_json, file, ensure_ascii=False, indent=4)\n",
        "\n",
        "    for im, img_id in zip(cppe5[\"image\"], cppe5[\"image_id\"]):\n",
        "        path_img = os.path.join(path_output_cppe5, f\"{img_id}.png\")\n",
        "        im.save(path_img)\n",
        "\n",
        "    return path_output_cppe5, path_anno"
      ],
      "metadata": {
        "id": "qviWa76xsrIy"
      },
      "execution_count": null,
      "outputs": []
    },
    {
      "cell_type": "code",
      "source": [
        "import torchvision\n",
        "\n",
        "\n",
        "class CocoDetection(torchvision.datasets.CocoDetection):\n",
        "    def __init__(self, img_folder, image_processor, ann_file):\n",
        "        super().__init__(img_folder, ann_file)\n",
        "        self.image_processor = image_processor\n",
        "\n",
        "    def __getitem__(self, idx):\n",
        "        # read in PIL image and target in COCO format\n",
        "        img, target = super(CocoDetection, self).__getitem__(idx)\n",
        "\n",
        "        # preprocess image and target: converting target to DETR format,\n",
        "        # resizing + normalization of both image and target)\n",
        "        image_id = self.ids[idx]\n",
        "        target = {\"image_id\": image_id, \"annotations\": target}\n",
        "        encoding = self.image_processor(images=img, annotations=target, return_tensors=\"pt\")\n",
        "        pixel_values = encoding[\"pixel_values\"].squeeze()  # remove batch dimension\n",
        "        target = encoding[\"labels\"][0]  # remove batch dimension\n",
        "\n",
        "        return {\"pixel_values\": pixel_values, \"labels\": target}\n",
        "\n",
        "\n",
        "im_processor = AutoImageProcessor.from_pretrained(\"candy_detector\")\n",
        "\n",
        "path_output_cppe5, path_anno = save_cppe5_annotation_file_images(dataset1[\"test\"])\n",
        "test_ds_coco_format = CocoDetection(path_output_cppe5, im_processor, path_anno)"
      ],
      "metadata": {
        "colab": {
          "base_uri": "https://localhost:8080/"
        },
        "id": "xaMyTVdKsuNv",
        "outputId": "02bfd66a-f151-4713-9126-5e4c089438f1"
      },
      "execution_count": null,
      "outputs": [
        {
          "output_type": "stream",
          "name": "stdout",
          "text": [
            "loading annotations into memory...\n",
            "Done (t=0.00s)\n",
            "creating index...\n",
            "index created!\n"
          ]
        }
      ]
    },
    {
      "cell_type": "code",
      "source": [
        "! pip install evaluate"
      ],
      "metadata": {
        "id": "Q2fwr2Woup0V"
      },
      "execution_count": null,
      "outputs": []
    },
    {
      "cell_type": "code",
      "source": [
        "import evaluate\n",
        "from tqdm import tqdm\n",
        "\n",
        "model = AutoModelForObjectDetection.from_pretrained(\"candy_detector\")\n",
        "module = evaluate.load(\"ybelkada/cocoevaluate\", coco=test_ds_coco_format.coco)\n",
        "val_dataloader = torch.utils.data.DataLoader(\n",
        "    test_ds_coco_format, batch_size=8, shuffle=False, num_workers=4, collate_fn=collate_fn\n",
        ")\n",
        "\n",
        "with torch.no_grad():\n",
        "    for idx, batch in enumerate(tqdm(val_dataloader)):\n",
        "        pixel_values = batch[\"pixel_values\"]\n",
        "        pixel_mask = batch[\"pixel_mask\"]\n",
        "\n",
        "        labels = [\n",
        "            {k: v for k, v in t.items()} for t in batch[\"labels\"]\n",
        "        ]  # these are in DETR format, resized + normalized\n",
        "\n",
        "        # forward pass\n",
        "        outputs = model(pixel_values=pixel_values, pixel_mask=pixel_mask)\n",
        "\n",
        "        orig_target_sizes = torch.stack([target[\"orig_size\"] for target in labels], dim=0)\n",
        "        results = im_processor.post_process(outputs, orig_target_sizes)  # convert outputs of model to COCO api\n",
        "\n",
        "        module.add(prediction=results, reference=labels)\n",
        "        del batch\n",
        "\n",
        "results = module.compute()\n",
        "print(results)"
      ],
      "metadata": {
        "colab": {
          "base_uri": "https://localhost:8080/",
          "height": 448,
          "referenced_widgets": [
            "1ec73d70b88647ddaa920960cfdaab77",
            "6c845b6094254bb5bf33bd5d10425506",
            "e633b1dd686945d59feb2c6aa5cedfbd",
            "256496b507684d42b52c00c48589d075",
            "dc0021a5a9254daaac218b22236e4d6a",
            "3a3aa754a3ab4a7f91229387598bd645",
            "fac7ac84b2e346329f008b3bed483978",
            "87cfabfc711c4bfe96b9e7aa3003fa37",
            "ae75f4b7a3114379ad1affb52ef25b8a",
            "930ba7e1b99c4007a99f1d98c73b1b96",
            "bc05d270a27a4914919dc28bf4510de9",
            "cea8f07f83594245a7ddebd0489c829c",
            "528513f90645448fae1888d80bf71f57",
            "99f30a7326324176b57f0b5f7b6070a9",
            "ab964950d8584a64835bbea27ae2349a",
            "8a8ff4ed2eb845b7b86a7c1717056e55",
            "7a00042e2f0946819dd7b1334eef2e1b",
            "afe81725f02e4a289199adfd65688149",
            "e2c509b00b09435491d5f91f3363da77",
            "5135bfe76be34eb9aa9e23263b999e92",
            "1893b8c8f9ae4967bc409e2f22a2190a",
            "87a75d0a79254c688202d378971ee456"
          ]
        },
        "id": "no-bocZBukda",
        "outputId": "a8981e0b-ea73-4475-ca9f-21aa567da50c"
      },
      "execution_count": null,
      "outputs": [
        {
          "output_type": "display_data",
          "data": {
            "text/plain": [
              "Downloading builder script:   0%|          | 0.00/6.40k [00:00<?, ?B/s]"
            ],
            "application/vnd.jupyter.widget-view+json": {
              "version_major": 2,
              "version_minor": 0,
              "model_id": "1ec73d70b88647ddaa920960cfdaab77"
            }
          },
          "metadata": {}
        },
        {
          "output_type": "display_data",
          "data": {
            "text/plain": [
              "Downloading extra modules:   0%|          | 0.00/14.9k [00:00<?, ?B/s]"
            ],
            "application/vnd.jupyter.widget-view+json": {
              "version_major": 2,
              "version_minor": 0,
              "model_id": "cea8f07f83594245a7ddebd0489c829c"
            }
          },
          "metadata": {}
        },
        {
          "output_type": "stream",
          "name": "stderr",
          "text": [
            "/usr/local/lib/python3.10/dist-packages/torch/utils/data/dataloader.py:557: UserWarning: This DataLoader will create 4 worker processes in total. Our suggested max number of worker in current system is 2, which is smaller than what this DataLoader is going to create. Please be aware that excessive worker creation might get DataLoader running slow or even freeze, lower the worker number to avoid potential slowness/freeze if necessary.\n",
            "  warnings.warn(_create_warning_msg(\n",
            "  0%|          | 0/1 [00:00<?, ?it/s]`post_process` is deprecated and will be removed in v5 of Transformers, please use `post_process_object_detection` instead, with `threshold=0.` for equivalent results.\n",
            "100%|██████████| 1/1 [00:25<00:00, 25.52s/it]"
          ]
        },
        {
          "output_type": "stream",
          "name": "stdout",
          "text": [
            "Accumulating evaluation results...\n",
            "DONE (t=0.06s).\n",
            "IoU metric: bbox\n",
            " Average Precision  (AP) @[ IoU=0.50:0.95 | area=   all | maxDets=100 ] = 0.284\n",
            " Average Precision  (AP) @[ IoU=0.50      | area=   all | maxDets=100 ] = 0.407\n",
            " Average Precision  (AP) @[ IoU=0.75      | area=   all | maxDets=100 ] = 0.327\n",
            " Average Precision  (AP) @[ IoU=0.50:0.95 | area= small | maxDets=100 ] = 0.111\n",
            " Average Precision  (AP) @[ IoU=0.50:0.95 | area=medium | maxDets=100 ] = 0.387\n",
            " Average Precision  (AP) @[ IoU=0.50:0.95 | area= large | maxDets=100 ] = -1.000\n",
            " Average Recall     (AR) @[ IoU=0.50:0.95 | area=   all | maxDets=  1 ] = 0.203\n",
            " Average Recall     (AR) @[ IoU=0.50:0.95 | area=   all | maxDets= 10 ] = 0.372\n",
            " Average Recall     (AR) @[ IoU=0.50:0.95 | area=   all | maxDets=100 ] = 0.372\n",
            " Average Recall     (AR) @[ IoU=0.50:0.95 | area= small | maxDets=100 ] = 0.150\n",
            " Average Recall     (AR) @[ IoU=0.50:0.95 | area=medium | maxDets=100 ] = 0.445\n",
            " Average Recall     (AR) @[ IoU=0.50:0.95 | area= large | maxDets=100 ] = -1.000\n",
            "{'iou_bbox': {'AP-IoU=0.50:0.95-area=all-maxDets=100': 0.28406736209335215, 'AP-IoU=0.50-area=all-maxDets=100': 0.4067479962281942, 'AP-IoU=0.75-area=all-maxDets=100': 0.32698314474304574, 'AP-IoU=0.50:0.95-area=small-maxDets=100': 0.11093234323432342, 'AP-IoU=0.50:0.95-area=medium-maxDets=100': 0.387043847241867, 'AP-IoU=0.50:0.95-area=large-maxDets=100': -1.0, 'AR-IoU=0.50:0.95-area=all-maxDets=1': 0.20272727272727273, 'AR-IoU=0.50:0.95-area=all-maxDets=10': 0.3716477272727273, 'AR-IoU=0.50:0.95-area=all-maxDets=100': 0.3716477272727273, 'AR-IoU=0.50:0.95-area=small-maxDets=100': 0.14985119047619047, 'AR-IoU=0.50:0.95-area=medium-maxDets=100': 0.4452777777777778, 'AR-IoU=0.50:0.95-area=large-maxDets=100': -1.0}}\n"
          ]
        },
        {
          "output_type": "stream",
          "name": "stderr",
          "text": [
            "\n"
          ]
        }
      ]
    },
    {
      "cell_type": "markdown",
      "source": [
        "## Detection"
      ],
      "metadata": {
        "id": "9e3WcfqwxJOl"
      }
    },
    {
      "cell_type": "code",
      "source": [
        "# dataset1['test'][0]\n",
        "image = Image.open(\"/content/data/images/bc6115c2-cd_09.jpg\")"
      ],
      "metadata": {
        "id": "UiOWAt7vzFGE"
      },
      "execution_count": null,
      "outputs": []
    },
    {
      "cell_type": "code",
      "source": [
        "image_processor = AutoImageProcessor.from_pretrained(\"candy_detector\")\n",
        "model = AutoModelForObjectDetection.from_pretrained(\"candy_detector\")"
      ],
      "metadata": {
        "id": "-j5AG2h11quO"
      },
      "execution_count": null,
      "outputs": []
    },
    {
      "cell_type": "code",
      "source": [
        "with torch.no_grad():\n",
        "    inputs = image_processor(images=image, return_tensors=\"pt\")\n",
        "    outputs = model(**inputs)\n",
        "    target_sizes = torch.tensor([image.size[::-1]])\n",
        "    results = image_processor.post_process_object_detection(outputs, threshold=0.28,\n",
        "                                                            target_sizes=target_sizes)[0]\n",
        "\n",
        "for score, label, box in zip(results[\"scores\"], results[\"labels\"], results[\"boxes\"]):\n",
        "    box = [round(i, 2) for i in box.tolist()]\n",
        "    print(\n",
        "        f\"Detected {model.config.id2label[label.item()]} with confidence \"\n",
        "        f\"{round(score.item(), 3)} at location {box}\"\n",
        "    )"
      ],
      "metadata": {
        "id": "MuVNJung2d7b",
        "colab": {
          "base_uri": "https://localhost:8080/"
        },
        "outputId": "a8cebf6f-bbf5-443d-820d-2499ff4c9987"
      },
      "execution_count": null,
      "outputs": [
        {
          "output_type": "stream",
          "name": "stdout",
          "text": [
            "Detected Insect with confidence 0.411 at location [76.05, 81.92, 105.62, 109.39]\n",
            "Detected Moon with confidence 0.712 at location [199.6, 145.97, 236.15, 172.96]\n",
            "Detected Unicorn_Whole with confidence 0.442 at location [226.76, 52.87, 272.41, 100.93]\n",
            "Detected Insect with confidence 0.327 at location [212.68, 97.49, 248.24, 130.3]\n",
            "Detected Insect with confidence 0.615 at location [226.33, 174.04, 269.94, 210.04]\n",
            "Detected Grey_Star with confidence 0.751 at location [190.93, 56.58, 218.07, 80.7]\n",
            "Detected Moon with confidence 0.787 at location [131.17, 157.24, 163.93, 183.13]\n",
            "Detected Grey_Star with confidence 0.737 at location [156.14, 45.9, 182.0, 71.85]\n",
            "Detected Unicorn_Whole with confidence 0.427 at location [95.28, 103.0, 127.16, 160.97]\n",
            "Detected Insect with confidence 0.426 at location [40.26, 66.58, 80.6, 95.57]\n",
            "Detected Insect with confidence 0.634 at location [83.13, 175.82, 117.74, 215.16]\n",
            "Detected Insect with confidence 0.522 at location [156.93, 72.59, 191.85, 105.14]\n",
            "Detected Cat with confidence 0.356 at location [91.27, 35.32, 116.05, 70.46]\n",
            "Detected Unicorn_head with confidence 0.754 at location [38.95, 112.74, 73.09, 162.36]\n",
            "Detected Moon with confidence 0.347 at location [165.83, 164.81, 193.85, 201.79]\n",
            "Detected Insect with confidence 0.44 at location [120.2, 61.83, 150.87, 110.72]\n",
            "Detected Grey_Star with confidence 0.557 at location [185.71, 17.5, 214.73, 45.94]\n"
          ]
        }
      ]
    },
    {
      "cell_type": "code",
      "source": [
        "draw = ImageDraw.Draw(image)\n",
        "\n",
        "for score, label, box in zip(results[\"scores\"], results[\"labels\"], results[\"boxes\"]):\n",
        "    box = [round(i, 2) for i in box.tolist()]\n",
        "    x, y, x2, y2 = tuple(box)\n",
        "    draw.rectangle((x, y, x2, y2), outline=\"red\", width=1)\n",
        "    draw.text((x, y), model.config.id2label[label.item()], fill=\"white\")\n",
        "\n",
        "image"
      ],
      "metadata": {
        "colab": {
          "base_uri": "https://localhost:8080/",
          "height": 242
        },
        "id": "QuVBSV1j2o-B",
        "outputId": "ce5fe233-5e0e-4a52-8415-fb5bf4c612db"
      },
      "execution_count": null,
      "outputs": [
        {
          "output_type": "execute_result",
          "data": {
            "text/plain": [
              "<PIL.JpegImagePlugin.JpegImageFile image mode=RGB size=300x225>"
            ],
            "image/png": "[encoded data removed]"
          },
          "metadata": {},
          "execution_count": 52
        }
      ]
    },
    {
      "cell_type": "markdown",
      "source": [
        "## Final"
      ],
      "metadata": {
        "id": "KWZ9omFscH4E"
      }
    },
    {
      "cell_type": "code",
      "source": [
        "def candy_counter(image_path, model_path):\n",
        "  image = Image.open(image_path)\n",
        "  final_dic = {'Moon': 0,'Insect': 0,'Black_star': 0,'Grey_star': 0,\n",
        "               'Unicorn_whole': 0,'Unicorn_head': 0,'Owl': 0,'Cat': 0}\n",
        "  image_processor = AutoImageProcessor.from_pretrained(\"candy_detector\")\n",
        "  model = AutoModelForObjectDetection.from_pretrained(\"candy_detector\")\n",
        "\n",
        "  with torch.no_grad():\n",
        "      inputs = image_processor(images=image, return_tensors=\"pt\")\n",
        "      outputs = model(**inputs)\n",
        "      target_sizes = torch.tensor([image.size[::-1]])\n",
        "      results = image_processor.post_process_object_detection(outputs, threshold=0.3, target_sizes=target_sizes)[0]\n",
        "\n",
        "  for score, label, box in zip(results[\"scores\"], results[\"labels\"], results[\"boxes\"]):\n",
        "      box = [round(i, 2) for i in box.tolist()]\n",
        "      label_name = model.config.id2label[label.item()]\n",
        "      if label_name not in final_dic:\n",
        "        final_dic[label_name] = 1\n",
        "      else:\n",
        "        final_dic[label_name] = final_dic[label_name] + 1\n",
        "\n",
        "  return final_dic\n"
      ],
      "metadata": {
        "id": "JcIFyyJdW36P"
      },
      "execution_count": null,
      "outputs": []
    },
    {
      "cell_type": "code",
      "source": [
        "candy_counter(image_path='/content/data/images/ccb76443-cd_07.jpg',\n",
        "              model_path='/content/candy_detector')"
      ],
      "metadata": {
        "colab": {
          "base_uri": "https://localhost:8080/"
        },
        "id": "4L0yLyAxW9Jd",
        "outputId": "e5728906-01ad-4e53-9998-4898c4692cc9"
      },
      "execution_count": null,
      "outputs": [
        {
          "output_type": "execute_result",
          "data": {
            "text/plain": [
              "{'Moon': 0,\n",
              " 'Insect': 8,\n",
              " 'Black_star': 0,\n",
              " 'Grey_star': 0,\n",
              " 'Unicorn_whole': 0,\n",
              " 'Unicorn_head': 4,\n",
              " 'Owl': 1,\n",
              " 'Cat': 1,\n",
              " 'Grey_Star': 2,\n",
              " 'Unicorn_Whole': 1}"
            ]
          },
          "metadata": {},
          "execution_count": 54
        }
      ]
    },
    {
      "cell_type": "markdown",
      "source": [
        "## Save the model"
      ],
      "metadata": {
        "id": "CB6f8QDmuQv0"
      }
    },
    {
      "cell_type": "code",
      "source": [
        "from google.colab import files\n",
        "import shutil\n",
        "\n",
        "# Create a zip archive of the candy_detector folder\n",
        "shutil.make_archive(\"candy_detector\", 'zip', \"candy_detector\")\n",
        "\n",
        "# Download the created zip file\n",
        "files.download(\"candy_detector.zip\")"
      ],
      "metadata": {
        "colab": {
          "base_uri": "https://localhost:8080/",
          "height": 17
        },
        "id": "YWSWR4KJia5k",
        "outputId": "580ba9f8-0321-4f6a-d3ec-9b632923f81b"
      },
      "execution_count": null,
      "outputs": [
        {
          "output_type": "display_data",
          "data": {
            "text/plain": [
              "<IPython.core.display.Javascript object>"
            ],
            "application/javascript": [
              "\n",
              "    async function download(id, filename, size) {\n",
              "      if (!google.colab.kernel.accessAllowed) {\n",
              "        return;\n",
              "      }\n",
              "      const div = document.createElement('div');\n",
              "      const label = document.createElement('label');\n",
              "      label.textContent = `Downloading \"${filename}\": `;\n",
              "      div.appendChild(label);\n",
              "      const progress = document.createElement('progress');\n",
              "      progress.max = size;\n",
              "      div.appendChild(progress);\n",
              "      document.body.appendChild(div);\n",
              "\n",
              "      const buffers = [];\n",
              "      let downloaded = 0;\n",
              "\n",
              "      const channel = await google.colab.kernel.comms.open(id);\n",
              "      // Send a message to notify the kernel that we're ready.\n",
              "      channel.send({})\n",
              "\n",
              "      for await (const message of channel.messages) {\n",
              "        // Send a message to notify the kernel that we're ready.\n",
              "        channel.send({})\n",
              "        if (message.buffers) {\n",
              "          for (const buffer of message.buffers) {\n",
              "            buffers.push(buffer);\n",
              "            downloaded += buffer.byteLength;\n",
              "            progress.value = downloaded;\n",
              "          }\n",
              "        }\n",
              "      }\n",
              "      const blob = new Blob(buffers, {type: 'application/binary'});\n",
              "      const a = document.createElement('a');\n",
              "      a.href = window.URL.createObjectURL(blob);\n",
              "      a.download = filename;\n",
              "      div.appendChild(a);\n",
              "      a.click();\n",
              "      div.remove();\n",
              "    }\n",
              "  "
            ]
          },
          "metadata": {}
        },
        {
          "output_type": "display_data",
          "data": {
            "text/plain": [
              "<IPython.core.display.Javascript object>"
            ],
            "application/javascript": [
              "download(\"download_6899456a-7566-4f47-88a0-5f88b3a93adc\", \"candy_detector.zip\", 154524543)"
            ]
          },
          "metadata": {}
        }
      ]
    }
  ]
}